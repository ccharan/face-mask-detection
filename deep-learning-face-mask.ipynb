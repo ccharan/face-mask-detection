{
 "cells": [
  {
   "cell_type": "markdown",
   "metadata": {
    "id": "yJoPoRkpbnPE"
   },
   "source": [
    "# deep-learning-face-mask\n",
    "\n",
    "Use the \"Run\" button to execute the code."
   ]
  },
  {
   "cell_type": "code",
   "execution_count": 1,
   "metadata": {
    "executionInfo": {
     "elapsed": 9090,
     "status": "ok",
     "timestamp": 1618054597928,
     "user": {
      "displayName": "Charan C",
      "photoUrl": "https://lh3.googleusercontent.com/a-/AOh14Gg_-S25rbBYZwL5DqvT6i6XOkib--vDe0WYxCuo=s64",
      "userId": "02102565803675104241"
     },
     "user_tz": -330
    },
    "id": "NaaHkSawbnPF"
   },
   "outputs": [],
   "source": [
    "!pip install jovian --upgrade --quiet"
   ]
  },
  {
   "cell_type": "code",
   "execution_count": 2,
   "metadata": {
    "executionInfo": {
     "elapsed": 9088,
     "status": "ok",
     "timestamp": 1618054597929,
     "user": {
      "displayName": "Charan C",
      "photoUrl": "https://lh3.googleusercontent.com/a-/AOh14Gg_-S25rbBYZwL5DqvT6i6XOkib--vDe0WYxCuo=s64",
      "userId": "02102565803675104241"
     },
     "user_tz": -330
    },
    "id": "Ug4EGg-ObnPG"
   },
   "outputs": [
    {
     "data": {
      "application/javascript": [
       "if (window.IPython && IPython.notebook.kernel) IPython.notebook.kernel.execute('jovian.utils.jupyter.get_notebook_name_saved = lambda: \"' + IPython.notebook.notebook_name + '\"')"
      ],
      "text/plain": [
       "<IPython.core.display.Javascript object>"
      ]
     },
     "metadata": {},
     "output_type": "display_data"
    }
   ],
   "source": [
    "import jovian"
   ]
  },
  {
   "cell_type": "code",
   "execution_count": 3,
   "metadata": {
    "executionInfo": {
     "elapsed": 9086,
     "status": "ok",
     "timestamp": 1618054597930,
     "user": {
      "displayName": "Charan C",
      "photoUrl": "https://lh3.googleusercontent.com/a-/AOh14Gg_-S25rbBYZwL5DqvT6i6XOkib--vDe0WYxCuo=s64",
      "userId": "02102565803675104241"
     },
     "user_tz": -330
    },
    "id": "jKy1eanJb2gL"
   },
   "outputs": [],
   "source": [
    "project=\"deep-learning-face-mask-detection\""
   ]
  },
  {
   "cell_type": "code",
   "execution_count": 4,
   "metadata": {
    "colab": {
     "base_uri": "https://localhost:8080/",
     "height": 137
    },
    "executionInfo": {
     "elapsed": 27477,
     "status": "ok",
     "timestamp": 1618054616337,
     "user": {
      "displayName": "Charan C",
      "photoUrl": "https://lh3.googleusercontent.com/a-/AOh14Gg_-S25rbBYZwL5DqvT6i6XOkib--vDe0WYxCuo=s64",
      "userId": "02102565803675104241"
     },
     "user_tz": -330
    },
    "id": "zZNgcCrMbnPG",
    "outputId": "efb3eeb6-f733-4e24-c879-b3970715cd98"
   },
   "outputs": [
    {
     "data": {
      "application/javascript": [
       "window.require && require([\"base/js/namespace\"],function(Jupyter){Jupyter.notebook.save_checkpoint()})"
      ],
      "text/plain": [
       "<IPython.core.display.Javascript object>"
      ]
     },
     "metadata": {},
     "output_type": "display_data"
    },
    {
     "name": "stdout",
     "output_type": "stream",
     "text": [
      "[jovian] Attempting to save notebook..\n",
      "[jovian] Updating notebook \"charanc1996/deep-learning-face-mask-detection\" on https://jovian.ai/\n",
      "[jovian] Uploading notebook..\n",
      "[jovian] Capturing environment..\n",
      "[jovian] Committed successfully! https://jovian.ai/charanc1996/deep-learning-face-mask-detection\n"
     ]
    },
    {
     "data": {
      "text/plain": [
       "'https://jovian.ai/charanc1996/deep-learning-face-mask-detection'"
      ]
     },
     "execution_count": 4,
     "metadata": {},
     "output_type": "execute_result"
    }
   ],
   "source": [
    "# Execute this to save new versions of the notebook\n",
    "jovian.commit(project=project)"
   ]
  },
  {
   "cell_type": "code",
   "execution_count": 5,
   "metadata": {
    "executionInfo": {
     "elapsed": 29557,
     "status": "ok",
     "timestamp": 1618054618422,
     "user": {
      "displayName": "Charan C",
      "photoUrl": "https://lh3.googleusercontent.com/a-/AOh14Gg_-S25rbBYZwL5DqvT6i6XOkib--vDe0WYxCuo=s64",
      "userId": "02102565803675104241"
     },
     "user_tz": -330
    },
    "id": "2Bmflsp3bnPH"
   },
   "outputs": [],
   "source": [
    "!pip install opendatasets --upgrade --quiet"
   ]
  },
  {
   "cell_type": "code",
   "execution_count": 6,
   "metadata": {
    "executionInfo": {
     "elapsed": 29555,
     "status": "ok",
     "timestamp": 1618054618423,
     "user": {
      "displayName": "Charan C",
      "photoUrl": "https://lh3.googleusercontent.com/a-/AOh14Gg_-S25rbBYZwL5DqvT6i6XOkib--vDe0WYxCuo=s64",
      "userId": "02102565803675104241"
     },
     "user_tz": -330
    },
    "id": "4lUrYV_FelrM"
   },
   "outputs": [],
   "source": [
    "import opendatasets as od"
   ]
  },
  {
   "cell_type": "code",
   "execution_count": 7,
   "metadata": {
    "executionInfo": {
     "elapsed": 29553,
     "status": "ok",
     "timestamp": 1618054618424,
     "user": {
      "displayName": "Charan C",
      "photoUrl": "https://lh3.googleusercontent.com/a-/AOh14Gg_-S25rbBYZwL5DqvT6i6XOkib--vDe0WYxCuo=s64",
      "userId": "02102565803675104241"
     },
     "user_tz": -330
    },
    "id": "O9EyEg7yer4W"
   },
   "outputs": [],
   "source": [
    "dataset_url = \"https://www.kaggle.com/ashishjangra27/face-mask-12k-images-dataset\""
   ]
  },
  {
   "cell_type": "code",
   "execution_count": 8,
   "metadata": {
    "colab": {
     "base_uri": "https://localhost:8080/"
    },
    "executionInfo": {
     "elapsed": 7039,
     "status": "ok",
     "timestamp": 1618054653034,
     "user": {
      "displayName": "Charan C",
      "photoUrl": "https://lh3.googleusercontent.com/a-/AOh14Gg_-S25rbBYZwL5DqvT6i6XOkib--vDe0WYxCuo=s64",
      "userId": "02102565803675104241"
     },
     "user_tz": -330
    },
    "id": "_FYLa-eOe4iq",
    "outputId": "9c3d12e9-23f0-4bd9-8bed-2108799dd093"
   },
   "outputs": [],
   "source": [
    "#od.download(dataset_url)"
   ]
  },
  {
   "cell_type": "code",
   "execution_count": 9,
   "metadata": {
    "executionInfo": {
     "elapsed": 7029,
     "status": "ok",
     "timestamp": 1618054653035,
     "user": {
      "displayName": "Charan C",
      "photoUrl": "https://lh3.googleusercontent.com/a-/AOh14Gg_-S25rbBYZwL5DqvT6i6XOkib--vDe0WYxCuo=s64",
      "userId": "02102565803675104241"
     },
     "user_tz": -330
    },
    "id": "2_9ioZv9fq_u"
   },
   "outputs": [],
   "source": [
    "data_dir = \"./face-mask-12k-images-dataset/Face\\ Mask\\ Dataset\""
   ]
  },
  {
   "cell_type": "code",
   "execution_count": 10,
   "metadata": {
    "executionInfo": {
     "elapsed": 7024,
     "status": "ok",
     "timestamp": 1618054653036,
     "user": {
      "displayName": "Charan C",
      "photoUrl": "https://lh3.googleusercontent.com/a-/AOh14Gg_-S25rbBYZwL5DqvT6i6XOkib--vDe0WYxCuo=s64",
      "userId": "02102565803675104241"
     },
     "user_tz": -330
    },
    "id": "Lcm_HVLTf9xP"
   },
   "outputs": [],
   "source": [
    "import os\n",
    "#os.listdir(data_dir)"
   ]
  },
  {
   "cell_type": "code",
   "execution_count": null,
   "metadata": {
    "colab": {
     "base_uri": "https://localhost:8080/",
     "height": 103
    },
    "executionInfo": {
     "elapsed": 10639,
     "status": "ok",
     "timestamp": 1618054656658,
     "user": {
      "displayName": "Charan C",
      "photoUrl": "https://lh3.googleusercontent.com/a-/AOh14Gg_-S25rbBYZwL5DqvT6i6XOkib--vDe0WYxCuo=s64",
      "userId": "02102565803675104241"
     },
     "user_tz": -330
    },
    "id": "k0kJSVmThE1B",
    "outputId": "769c65d5-e67d-432e-bb3d-2e1dd411ace3"
   },
   "outputs": [
    {
     "data": {
      "application/javascript": [
       "window.require && require([\"base/js/namespace\"],function(Jupyter){Jupyter.notebook.save_checkpoint()})"
      ],
      "text/plain": [
       "<IPython.core.display.Javascript object>"
      ]
     },
     "metadata": {},
     "output_type": "display_data"
    },
    {
     "name": "stdout",
     "output_type": "stream",
     "text": [
      "[jovian] Attempting to save notebook..\r\n"
     ]
    }
   ],
   "source": [
    "jovian.commit(project=project)"
   ]
  },
  {
   "cell_type": "markdown",
   "metadata": {
    "id": "VoTRMZrZhHd_"
   },
   "source": [
    "## Import the Dataset into PyTorch\n",
    "\n",
    "Use the ImageFolder class from torchvision"
   ]
  },
  {
   "cell_type": "code",
   "execution_count": null,
   "metadata": {
    "executionInfo": {
     "elapsed": 15468,
     "status": "ok",
     "timestamp": 1618054661494,
     "user": {
      "displayName": "Charan C",
      "photoUrl": "https://lh3.googleusercontent.com/a-/AOh14Gg_-S25rbBYZwL5DqvT6i6XOkib--vDe0WYxCuo=s64",
      "userId": "02102565803675104241"
     },
     "user_tz": -330
    },
    "id": "HCAJJyguhYMS"
   },
   "outputs": [],
   "source": [
    "from torchvision.datasets import ImageFolder"
   ]
  },
  {
   "cell_type": "code",
   "execution_count": null,
   "metadata": {
    "executionInfo": {
     "elapsed": 15465,
     "status": "ok",
     "timestamp": 1618054661498,
     "user": {
      "displayName": "Charan C",
      "photoUrl": "https://lh3.googleusercontent.com/a-/AOh14Gg_-S25rbBYZwL5DqvT6i6XOkib--vDe0WYxCuo=s64",
      "userId": "02102565803675104241"
     },
     "user_tz": -330
    },
    "id": "cWctbjZtp2h2"
   },
   "outputs": [],
   "source": [
    "data_dir = \"face-mask-12k-images-dataset/Face Mask Dataset\""
   ]
  },
  {
   "cell_type": "code",
   "execution_count": null,
   "metadata": {
    "executionInfo": {
     "elapsed": 15461,
     "status": "ok",
     "timestamp": 1618054661500,
     "user": {
      "displayName": "Charan C",
      "photoUrl": "https://lh3.googleusercontent.com/a-/AOh14Gg_-S25rbBYZwL5DqvT6i6XOkib--vDe0WYxCuo=s64",
      "userId": "02102565803675104241"
     },
     "user_tz": -330
    },
    "id": "JzbjcxdziWEu"
   },
   "outputs": [],
   "source": [
    "train_dir = \"face-mask-12k-images-dataset/Face Mask Dataset/Train\""
   ]
  },
  {
   "cell_type": "code",
   "execution_count": null,
   "metadata": {
    "executionInfo": {
     "elapsed": 15455,
     "status": "ok",
     "timestamp": 1618054661501,
     "user": {
      "displayName": "Charan C",
      "photoUrl": "https://lh3.googleusercontent.com/a-/AOh14Gg_-S25rbBYZwL5DqvT6i6XOkib--vDe0WYxCuo=s64",
      "userId": "02102565803675104241"
     },
     "user_tz": -330
    },
    "id": "_gAljTBwkbCz"
   },
   "outputs": [],
   "source": [
    "valid_dir = \"face-mask-12k-images-dataset/Face Mask Dataset/Validation\""
   ]
  },
  {
   "cell_type": "code",
   "execution_count": null,
   "metadata": {
    "executionInfo": {
     "elapsed": 15449,
     "status": "ok",
     "timestamp": 1618054661502,
     "user": {
      "displayName": "Charan C",
      "photoUrl": "https://lh3.googleusercontent.com/a-/AOh14Gg_-S25rbBYZwL5DqvT6i6XOkib--vDe0WYxCuo=s64",
      "userId": "02102565803675104241"
     },
     "user_tz": -330
    },
    "id": "scc1SLgYzD48"
   },
   "outputs": [],
   "source": [
    "test_dir = \"face-mask-12k-images-dataset/Face Mask Dataset/Test\""
   ]
  },
  {
   "cell_type": "code",
   "execution_count": null,
   "metadata": {
    "executionInfo": {
     "elapsed": 15444,
     "status": "ok",
     "timestamp": 1618054661503,
     "user": {
      "displayName": "Charan C",
      "photoUrl": "https://lh3.googleusercontent.com/a-/AOh14Gg_-S25rbBYZwL5DqvT6i6XOkib--vDe0WYxCuo=s64",
      "userId": "02102565803675104241"
     },
     "user_tz": -330
    },
    "id": "QnNFANthhiAM"
   },
   "outputs": [],
   "source": [
    "train_ds= ImageFolder(train_dir)"
   ]
  },
  {
   "cell_type": "code",
   "execution_count": null,
   "metadata": {
    "colab": {
     "base_uri": "https://localhost:8080/"
    },
    "executionInfo": {
     "elapsed": 15438,
     "status": "ok",
     "timestamp": 1618054661504,
     "user": {
      "displayName": "Charan C",
      "photoUrl": "https://lh3.googleusercontent.com/a-/AOh14Gg_-S25rbBYZwL5DqvT6i6XOkib--vDe0WYxCuo=s64",
      "userId": "02102565803675104241"
     },
     "user_tz": -330
    },
    "id": "0mBm2Ys_ktj8",
    "outputId": "a06ff53c-4824-4ec7-8147-d28eeae12fdd"
   },
   "outputs": [],
   "source": [
    "len(train_ds)"
   ]
  },
  {
   "cell_type": "code",
   "execution_count": null,
   "metadata": {
    "colab": {
     "base_uri": "https://localhost:8080/"
    },
    "executionInfo": {
     "elapsed": 15433,
     "status": "ok",
     "timestamp": 1618054661505,
     "user": {
      "displayName": "Charan C",
      "photoUrl": "https://lh3.googleusercontent.com/a-/AOh14Gg_-S25rbBYZwL5DqvT6i6XOkib--vDe0WYxCuo=s64",
      "userId": "02102565803675104241"
     },
     "user_tz": -330
    },
    "id": "w0mXrbdRkyJN",
    "outputId": "b24f4c90-e982-49ae-a557-70ad28d7bd4a"
   },
   "outputs": [],
   "source": [
    "train_ds.classes"
   ]
  },
  {
   "cell_type": "code",
   "execution_count": null,
   "metadata": {
    "executionInfo": {
     "elapsed": 15428,
     "status": "ok",
     "timestamp": 1618054661507,
     "user": {
      "displayName": "Charan C",
      "photoUrl": "https://lh3.googleusercontent.com/a-/AOh14Gg_-S25rbBYZwL5DqvT6i6XOkib--vDe0WYxCuo=s64",
      "userId": "02102565803675104241"
     },
     "user_tz": -330
    },
    "id": "lwHn8rdAh6Fc"
   },
   "outputs": [],
   "source": [
    "import matplotlib.pyplot as plt\n",
    "%matplotlib inline"
   ]
  },
  {
   "cell_type": "code",
   "execution_count": null,
   "metadata": {
    "colab": {
     "base_uri": "https://localhost:8080/",
     "height": 285
    },
    "executionInfo": {
     "elapsed": 15425,
     "status": "ok",
     "timestamp": 1618054661511,
     "user": {
      "displayName": "Charan C",
      "photoUrl": "https://lh3.googleusercontent.com/a-/AOh14Gg_-S25rbBYZwL5DqvT6i6XOkib--vDe0WYxCuo=s64",
      "userId": "02102565803675104241"
     },
     "user_tz": -330
    },
    "id": "dUfFOdEclA_3",
    "outputId": "e430ee09-7c26-431d-8791-29361cbd7b4b"
   },
   "outputs": [],
   "source": [
    "img, label = train_ds[120]\n",
    "plt.imshow(img)\n",
    "print(label)"
   ]
  },
  {
   "cell_type": "code",
   "execution_count": null,
   "metadata": {
    "executionInfo": {
     "elapsed": 15418,
     "status": "ok",
     "timestamp": 1618054661513,
     "user": {
      "displayName": "Charan C",
      "photoUrl": "https://lh3.googleusercontent.com/a-/AOh14Gg_-S25rbBYZwL5DqvT6i6XOkib--vDe0WYxCuo=s64",
      "userId": "02102565803675104241"
     },
     "user_tz": -330
    },
    "id": "KL6nJdbKiH7b"
   },
   "outputs": [],
   "source": []
  },
  {
   "cell_type": "code",
   "execution_count": null,
   "metadata": {
    "executionInfo": {
     "elapsed": 15414,
     "status": "ok",
     "timestamp": 1618054661515,
     "user": {
      "displayName": "Charan C",
      "photoUrl": "https://lh3.googleusercontent.com/a-/AOh14Gg_-S25rbBYZwL5DqvT6i6XOkib--vDe0WYxCuo=s64",
      "userId": "02102565803675104241"
     },
     "user_tz": -330
    },
    "id": "5WxP-jv2qCsz"
   },
   "outputs": [],
   "source": [
    "import torchvision.transforms as tt\n",
    "\n",
    "train_ds = ImageFolder(train_dir, tt.Compose([tt.Resize(64),\n",
    "                                            tt.RandomCrop(64),\n",
    "                                            tt.ToTensor()])  )\n",
    "valid_ds = ImageFolder(valid_dir, tt.Compose([tt.Resize(64),\n",
    "                                            tt.RandomCrop(64),\n",
    "                                            tt.ToTensor()])  )\n",
    "test_ds = ImageFolder(test_dir, tt.Compose([tt.Resize(64),\n",
    "                                            tt.RandomCrop(64),\n",
    "                                            tt.ToTensor()])  )"
   ]
  },
  {
   "cell_type": "code",
   "execution_count": null,
   "metadata": {
    "colab": {
     "base_uri": "https://localhost:8080/"
    },
    "executionInfo": {
     "elapsed": 15409,
     "status": "ok",
     "timestamp": 1618054661517,
     "user": {
      "displayName": "Charan C",
      "photoUrl": "https://lh3.googleusercontent.com/a-/AOh14Gg_-S25rbBYZwL5DqvT6i6XOkib--vDe0WYxCuo=s64",
      "userId": "02102565803675104241"
     },
     "user_tz": -330
    },
    "id": "Z7sFHYiUq3hT",
    "outputId": "5ddf08a5-1a3d-4e9d-8035-c5f657940c37"
   },
   "outputs": [],
   "source": [
    "\n",
    "len(valid_ds), len(train_ds)"
   ]
  },
  {
   "cell_type": "code",
   "execution_count": null,
   "metadata": {
    "executionInfo": {
     "elapsed": 15404,
     "status": "ok",
     "timestamp": 1618054661519,
     "user": {
      "displayName": "Charan C",
      "photoUrl": "https://lh3.googleusercontent.com/a-/AOh14Gg_-S25rbBYZwL5DqvT6i6XOkib--vDe0WYxCuo=s64",
      "userId": "02102565803675104241"
     },
     "user_tz": -330
    },
    "id": "5VNgfLNsnR5N"
   },
   "outputs": [],
   "source": [
    "from torch.utils.data import DataLoader\n",
    "\n",
    "batch_size = 128\n",
    "\n",
    "train_dl = DataLoader(train_ds, \n",
    "                      batch_size, \n",
    "                      shuffle=True, \n",
    "                      num_workers=2, \n",
    "                      pin_memory=True)\n",
    "\n",
    "valid_dl = DataLoader(valid_ds, \n",
    "                    batch_size, \n",
    "                    num_workers=2, \n",
    "                    pin_memory=True)"
   ]
  },
  {
   "cell_type": "code",
   "execution_count": null,
   "metadata": {
    "executionInfo": {
     "elapsed": 15400,
     "status": "ok",
     "timestamp": 1618054661521,
     "user": {
      "displayName": "Charan C",
      "photoUrl": "https://lh3.googleusercontent.com/a-/AOh14Gg_-S25rbBYZwL5DqvT6i6XOkib--vDe0WYxCuo=s64",
      "userId": "02102565803675104241"
     },
     "user_tz": -330
    },
    "id": "Xrgtn2wDnc7O"
   },
   "outputs": [],
   "source": [
    "from torchvision.utils import make_grid\n",
    "\n",
    "def show_batch(dl):\n",
    "    for images, labels in dl:\n",
    "        fig, ax = plt.subplots(figsize=(12, 6))\n",
    "        ax.set_xticks([]); ax.set_yticks([])\n",
    "        ax.imshow(make_grid(images, nrow=16).permute(1, 2, 0))\n",
    "        break"
   ]
  },
  {
   "cell_type": "code",
   "execution_count": null,
   "metadata": {
    "colab": {
     "base_uri": "https://localhost:8080/",
     "height": 361
    },
    "executionInfo": {
     "elapsed": 28287,
     "status": "ok",
     "timestamp": 1618054674415,
     "user": {
      "displayName": "Charan C",
      "photoUrl": "https://lh3.googleusercontent.com/a-/AOh14Gg_-S25rbBYZwL5DqvT6i6XOkib--vDe0WYxCuo=s64",
      "userId": "02102565803675104241"
     },
     "user_tz": -330
    },
    "id": "AodDtrM1ngFv",
    "outputId": "a6f83f90-69ac-46f8-95e4-dcdd7896f74c"
   },
   "outputs": [],
   "source": [
    "show_batch(train_dl)"
   ]
  },
  {
   "cell_type": "markdown",
   "metadata": {
    "id": "ybdQb0OusKVN"
   },
   "source": [
    "### GPU Utilities"
   ]
  },
  {
   "cell_type": "code",
   "execution_count": null,
   "metadata": {
    "executionInfo": {
     "elapsed": 28282,
     "status": "ok",
     "timestamp": 1618054674417,
     "user": {
      "displayName": "Charan C",
      "photoUrl": "https://lh3.googleusercontent.com/a-/AOh14Gg_-S25rbBYZwL5DqvT6i6XOkib--vDe0WYxCuo=s64",
      "userId": "02102565803675104241"
     },
     "user_tz": -330
    },
    "id": "TQ6xfomfsPF9"
   },
   "outputs": [],
   "source": [
    "import torch\n",
    "\n",
    "def get_default_device():\n",
    "    \"\"\"Pick GPU if available, else CPU\"\"\"\n",
    "    if torch.cuda.is_available():\n",
    "        return torch.device('cuda')\n",
    "    else:\n",
    "        return torch.device('cpu')\n",
    "    \n",
    "def to_device(data, device):\n",
    "    \"\"\"Move tensor(s) to chosen device\"\"\"\n",
    "    if isinstance(data, (list,tuple)):\n",
    "        return [to_device(x, device) for x in data]\n",
    "    return data.to(device, non_blocking=True)\n",
    "\n",
    "class DeviceDataLoader():\n",
    "    \"\"\"Wrap a dataloader to move data to a device\"\"\"\n",
    "    def __init__(self, dl, device):\n",
    "        self.dl = dl\n",
    "        self.device = device\n",
    "        \n",
    "    def __iter__(self):\n",
    "        \"\"\"Yield a batch of data after moving it to device\"\"\"\n",
    "        for b in self.dl: \n",
    "            yield to_device(b, self.device)\n",
    "\n",
    "    def __len__(self):\n",
    "        \"\"\"Number of batches\"\"\"\n",
    "        return len(self.dl)"
   ]
  },
  {
   "cell_type": "code",
   "execution_count": null,
   "metadata": {
    "colab": {
     "base_uri": "https://localhost:8080/"
    },
    "executionInfo": {
     "elapsed": 28277,
     "status": "ok",
     "timestamp": 1618054674419,
     "user": {
      "displayName": "Charan C",
      "photoUrl": "https://lh3.googleusercontent.com/a-/AOh14Gg_-S25rbBYZwL5DqvT6i6XOkib--vDe0WYxCuo=s64",
      "userId": "02102565803675104241"
     },
     "user_tz": -330
    },
    "id": "Nd5hQ8s4ssCZ",
    "outputId": "23e63c6f-adf7-4659-f4c8-db583161fa83"
   },
   "outputs": [],
   "source": [
    "torch.cuda.is_available()"
   ]
  },
  {
   "cell_type": "code",
   "execution_count": null,
   "metadata": {
    "executionInfo": {
     "elapsed": 28272,
     "status": "ok",
     "timestamp": 1618054674421,
     "user": {
      "displayName": "Charan C",
      "photoUrl": "https://lh3.googleusercontent.com/a-/AOh14Gg_-S25rbBYZwL5DqvT6i6XOkib--vDe0WYxCuo=s64",
      "userId": "02102565803675104241"
     },
     "user_tz": -330
    },
    "id": "HbMFgmwNs2yH"
   },
   "outputs": [],
   "source": [
    "device = get_default_device()"
   ]
  },
  {
   "cell_type": "code",
   "execution_count": null,
   "metadata": {
    "colab": {
     "base_uri": "https://localhost:8080/"
    },
    "executionInfo": {
     "elapsed": 28266,
     "status": "ok",
     "timestamp": 1618054674422,
     "user": {
      "displayName": "Charan C",
      "photoUrl": "https://lh3.googleusercontent.com/a-/AOh14Gg_-S25rbBYZwL5DqvT6i6XOkib--vDe0WYxCuo=s64",
      "userId": "02102565803675104241"
     },
     "user_tz": -330
    },
    "id": "kFM89oxvs7v8",
    "outputId": "7c1eb05d-bf88-4fc9-a0be-60a17154fde3"
   },
   "outputs": [],
   "source": [
    "device"
   ]
  },
  {
   "cell_type": "code",
   "execution_count": null,
   "metadata": {
    "executionInfo": {
     "elapsed": 28261,
     "status": "ok",
     "timestamp": 1618054674424,
     "user": {
      "displayName": "Charan C",
      "photoUrl": "https://lh3.googleusercontent.com/a-/AOh14Gg_-S25rbBYZwL5DqvT6i6XOkib--vDe0WYxCuo=s64",
      "userId": "02102565803675104241"
     },
     "user_tz": -330
    },
    "id": "APb9mCpntFyO"
   },
   "outputs": [],
   "source": [
    "train_dl = DeviceDataLoader(train_dl, device)\n",
    "valid_dl = DeviceDataLoader(valid_dl, device)"
   ]
  },
  {
   "cell_type": "markdown",
   "metadata": {
    "id": "DAueP90mtWKY"
   },
   "source": [
    "### Model and Training Utilities."
   ]
  },
  {
   "cell_type": "code",
   "execution_count": null,
   "metadata": {
    "executionInfo": {
     "elapsed": 28256,
     "status": "ok",
     "timestamp": 1618054674426,
     "user": {
      "displayName": "Charan C",
      "photoUrl": "https://lh3.googleusercontent.com/a-/AOh14Gg_-S25rbBYZwL5DqvT6i6XOkib--vDe0WYxCuo=s64",
      "userId": "02102565803675104241"
     },
     "user_tz": -330
    },
    "id": "NjfEGvwGtdud"
   },
   "outputs": [],
   "source": [
    "import torch.nn as nn\n",
    "import torch.nn.functional as F\n",
    "\n",
    "class ImageClassificationBase(nn.Module):\n",
    "    def training_step(self, batch):\n",
    "        \"calculate loss for a batch of training data\"\n",
    "        images, labels = batch \n",
    "        out = self(images)                  # Generate predictions\n",
    "        loss = F.cross_entropy(out, labels) # Calculate loss\n",
    "        return loss\n",
    "    \n",
    "    def validation_step(self, batch):\n",
    "        \"calculate loss & accuracy for a batch of validation data\"\n",
    "        images, labels = batch \n",
    "        out = self(images)                    # Generate predictions\n",
    "        loss = F.cross_entropy(out, labels)   # Calculate loss\n",
    "        acc = accuracy(out, labels)           # Calculate accuracy\n",
    "        return {'val_loss': loss.detach(), 'val_acc': acc}\n",
    "        \n",
    "    def validation_epoch_end(self, outputs):\n",
    "        batch_losses = [x['val_loss'] for x in outputs]\n",
    "        epoch_loss = torch.stack(batch_losses).mean()   # Combine losses\n",
    "        batch_accs = [x['val_acc'] for x in outputs]\n",
    "        epoch_acc = torch.stack(batch_accs).mean()      # Combine accuracies\n",
    "        return {'val_loss': epoch_loss.item(), 'val_acc': epoch_acc.item()}\n",
    "    \n",
    "    def epoch_end(self, epoch, result):\n",
    "        print(\"Epoch [{}], train_loss: {:.4f}, val_loss: {:.4f}, val_acc: {:.4f}\".format(\n",
    "            epoch, result['train_loss'], result['val_loss'], result['val_acc']))\n",
    "        \n",
    "def accuracy(outputs, labels):\n",
    "    _, preds = torch.max(outputs, dim=1)\n",
    "    return torch.tensor(torch.sum(preds == labels).item() / len(preds))"
   ]
  },
  {
   "cell_type": "code",
   "execution_count": null,
   "metadata": {
    "executionInfo": {
     "elapsed": 28251,
     "status": "ok",
     "timestamp": 1618054674428,
     "user": {
      "displayName": "Charan C",
      "photoUrl": "https://lh3.googleusercontent.com/a-/AOh14Gg_-S25rbBYZwL5DqvT6i6XOkib--vDe0WYxCuo=s64",
      "userId": "02102565803675104241"
     },
     "user_tz": -330
    },
    "id": "wgoIoy_1tpln"
   },
   "outputs": [],
   "source": [
    "@torch.no_grad()\n",
    "def evaluate(model, val_loader):\n",
    "    \"\"\"Evaluates the model's performance on the validation set\"\"\"\n",
    "    model.eval()\n",
    "    outputs = [model.validation_step(batch) for batch in val_loader]\n",
    "    return model.validation_epoch_end(outputs)\n",
    "\n",
    "def fit(epochs, lr, model, train_loader, val_loader, opt_func=torch.optim.SGD):\n",
    "    history = []\n",
    "    optimizer = opt_func(model.parameters(), lr)\n",
    "    for epoch in range(epochs):\n",
    "        # Training Phase \n",
    "        model.train()\n",
    "        train_losses = []\n",
    "        for batch in train_loader:\n",
    "            loss = model.training_step(batch)\n",
    "            train_losses.append(loss)\n",
    "            loss.backward()\n",
    "            optimizer.step()\n",
    "            optimizer.zero_grad()\n",
    "        # Validation phase\n",
    "        result = evaluate(model, val_loader)\n",
    "        result['train_loss'] = torch.stack(train_losses).mean().item()\n",
    "        model.epoch_end(epoch, result)\n",
    "        history.append(result)\n",
    "    return history"
   ]
  },
  {
   "cell_type": "markdown",
   "metadata": {
    "id": "Ea-eIIqaueck"
   },
   "source": [
    "###Model"
   ]
  },
  {
   "cell_type": "code",
   "execution_count": null,
   "metadata": {
    "executionInfo": {
     "elapsed": 28239,
     "status": "ok",
     "timestamp": 1618054674429,
     "user": {
      "displayName": "Charan C",
      "photoUrl": "https://lh3.googleusercontent.com/a-/AOh14Gg_-S25rbBYZwL5DqvT6i6XOkib--vDe0WYxCuo=s64",
      "userId": "02102565803675104241"
     },
     "user_tz": -330
    },
    "id": "SCEIRcQNudiT"
   },
   "outputs": [],
   "source": [
    "def conv_block(in_channels, out_channels, pool=False):\n",
    "    layers = [nn.Conv2d(in_channels, out_channels, kernel_size=3, padding=1), \n",
    "              nn.BatchNorm2d(out_channels), \n",
    "              nn.ReLU(inplace=True)]\n",
    "    if pool: layers.append(nn.MaxPool2d(2))\n",
    "    return nn.Sequential(*layers)\n",
    "\n",
    "class ResNet9(ImageClassificationBase):\n",
    "    def __init__(self, in_channels, num_classes):\n",
    "        super().__init__()\n",
    "        # Input: 128 x 3 x 64 x 64\n",
    "        self.conv1 = conv_block(in_channels, 64) # 128 x 64 x 64 x 64\n",
    "        self.conv2 = conv_block(64, 128, pool=True) # 128 x 128 x 32 x 32\n",
    "        self.res1 = nn.Sequential(conv_block(128, 128), # 128 x 128 x 32 x 32\n",
    "                                  conv_block(128, 128)) # 128 x 128 x 32 x 32\n",
    "        \n",
    "        self.conv3 = conv_block(128, 256, pool=True) # 128 x 256 x 16 x 16\n",
    "        self.conv4 = conv_block(256, 512, pool=True) # 128 x 512 x 8 x 8 \n",
    "        self.res2 = nn.Sequential(conv_block(512, 512), # 128 x 512 x 8 x 8 \n",
    "                                  conv_block(512, 512)) # 128 x 512 x 8 x 8 \n",
    "        \n",
    "        self.classifier = nn.Sequential(nn.AdaptiveMaxPool2d(1), # 128 x 512 x 1 x 1 \n",
    "                                        nn.Flatten(), # 128 x 512\n",
    "                                        nn.Dropout(0.2),\n",
    "                                        nn.Linear(512, num_classes))\n",
    "        \n",
    "    def forward(self, xb):\n",
    "        out = self.conv1(xb)\n",
    "        out = self.conv2(out)\n",
    "        out = self.res1(out) + out\n",
    "        out = self.conv3(out)\n",
    "        out = self.conv4(out)\n",
    "        out = self.res2(out) + out\n",
    "        out = self.classifier(out)\n",
    "        return out"
   ]
  },
  {
   "cell_type": "code",
   "execution_count": null,
   "metadata": {
    "colab": {
     "base_uri": "https://localhost:8080/"
    },
    "executionInfo": {
     "elapsed": 28232,
     "status": "ok",
     "timestamp": 1618054674431,
     "user": {
      "displayName": "Charan C",
      "photoUrl": "https://lh3.googleusercontent.com/a-/AOh14Gg_-S25rbBYZwL5DqvT6i6XOkib--vDe0WYxCuo=s64",
      "userId": "02102565803675104241"
     },
     "user_tz": -330
    },
    "id": "6Ez_5Domu9Gz",
    "outputId": "718e697c-42bd-4431-aa18-9ee103c010fa"
   },
   "outputs": [],
   "source": [
    "model = to_device(ResNet9(3, len(train_ds.classes)), device)\n",
    "model"
   ]
  },
  {
   "cell_type": "code",
   "execution_count": null,
   "metadata": {
    "colab": {
     "base_uri": "https://localhost:8080/",
     "height": 103
    },
    "executionInfo": {
     "elapsed": 29763,
     "status": "ok",
     "timestamp": 1618054675969,
     "user": {
      "displayName": "Charan C",
      "photoUrl": "https://lh3.googleusercontent.com/a-/AOh14Gg_-S25rbBYZwL5DqvT6i6XOkib--vDe0WYxCuo=s64",
      "userId": "02102565803675104241"
     },
     "user_tz": -330
    },
    "id": "96cBUROawGzf",
    "outputId": "26458763-b49b-415d-e814-572c60b6d9e6"
   },
   "outputs": [],
   "source": [
    "jovian.commit(project=project)"
   ]
  },
  {
   "cell_type": "code",
   "execution_count": null,
   "metadata": {
    "colab": {
     "base_uri": "https://localhost:8080/"
    },
    "executionInfo": {
     "elapsed": 31323,
     "status": "ok",
     "timestamp": 1618054677536,
     "user": {
      "displayName": "Charan C",
      "photoUrl": "https://lh3.googleusercontent.com/a-/AOh14Gg_-S25rbBYZwL5DqvT6i6XOkib--vDe0WYxCuo=s64",
      "userId": "02102565803675104241"
     },
     "user_tz": -330
    },
    "id": "MXV4j8zvwngN",
    "outputId": "8a457cb1-8a3a-4932-d3e9-1d3a06660bd1"
   },
   "outputs": [],
   "source": [
    "history = [evaluate(model, valid_dl)]\n",
    "history"
   ]
  },
  {
   "cell_type": "code",
   "execution_count": null,
   "metadata": {
    "colab": {
     "base_uri": "https://localhost:8080/"
    },
    "executionInfo": {
     "elapsed": 115242,
     "status": "ok",
     "timestamp": 1618054761462,
     "user": {
      "displayName": "Charan C",
      "photoUrl": "https://lh3.googleusercontent.com/a-/AOh14Gg_-S25rbBYZwL5DqvT6i6XOkib--vDe0WYxCuo=s64",
      "userId": "02102565803675104241"
     },
     "user_tz": -330
    },
    "id": "ut1piVqSw5r1",
    "outputId": "63805eda-9c8d-4861-a555-bcb38a0e5fd2"
   },
   "outputs": [],
   "source": [
    "history += fit(5, 0.001, model, train_dl, valid_dl, torch.optim.Adam)"
   ]
  },
  {
   "cell_type": "code",
   "execution_count": null,
   "metadata": {
    "executionInfo": {
     "elapsed": 115240,
     "status": "ok",
     "timestamp": 1618054761467,
     "user": {
      "displayName": "Charan C",
      "photoUrl": "https://lh3.googleusercontent.com/a-/AOh14Gg_-S25rbBYZwL5DqvT6i6XOkib--vDe0WYxCuo=s64",
      "userId": "02102565803675104241"
     },
     "user_tz": -330
    },
    "id": "zYDA1Jjuxt6D"
   },
   "outputs": [],
   "source": [
    "def plot_accuracies(history):\n",
    "    accuracies = [x['val_acc'] for x in history]\n",
    "    plt.plot(accuracies, '-x')\n",
    "    plt.xlabel('epoch')\n",
    "    plt.ylabel('accuracy')\n",
    "    plt.title('Accuracy vs. No. of epochs');"
   ]
  },
  {
   "cell_type": "code",
   "execution_count": null,
   "metadata": {
    "colab": {
     "base_uri": "https://localhost:8080/",
     "height": 295
    },
    "executionInfo": {
     "elapsed": 115236,
     "status": "ok",
     "timestamp": 1618054761470,
     "user": {
      "displayName": "Charan C",
      "photoUrl": "https://lh3.googleusercontent.com/a-/AOh14Gg_-S25rbBYZwL5DqvT6i6XOkib--vDe0WYxCuo=s64",
      "userId": "02102565803675104241"
     },
     "user_tz": -330
    },
    "id": "FyR3MYuPxxL6",
    "outputId": "52bfceb6-7875-4d05-fe6e-0787db3c2d22"
   },
   "outputs": [],
   "source": [
    "plot_accuracies(history)"
   ]
  },
  {
   "cell_type": "code",
   "execution_count": null,
   "metadata": {
    "executionInfo": {
     "elapsed": 115230,
     "status": "ok",
     "timestamp": 1618054761471,
     "user": {
      "displayName": "Charan C",
      "photoUrl": "https://lh3.googleusercontent.com/a-/AOh14Gg_-S25rbBYZwL5DqvT6i6XOkib--vDe0WYxCuo=s64",
      "userId": "02102565803675104241"
     },
     "user_tz": -330
    },
    "id": "DuZs2PjRx1WN"
   },
   "outputs": [],
   "source": [
    "def plot_losses(history):\n",
    "    train_losses = [x.get('train_loss') for x in history]\n",
    "    val_losses = [x['val_loss'] for x in history]\n",
    "    plt.plot(train_losses, '-bx')\n",
    "    plt.plot(val_losses, '-rx')\n",
    "    plt.xlabel('epoch')\n",
    "    plt.ylabel('loss')\n",
    "    plt.legend(['Training', 'Validation'])\n",
    "    plt.title('Loss vs. No. of epochs');"
   ]
  },
  {
   "cell_type": "code",
   "execution_count": null,
   "metadata": {
    "colab": {
     "base_uri": "https://localhost:8080/",
     "height": 295
    },
    "executionInfo": {
     "elapsed": 116529,
     "status": "ok",
     "timestamp": 1618054762778,
     "user": {
      "displayName": "Charan C",
      "photoUrl": "https://lh3.googleusercontent.com/a-/AOh14Gg_-S25rbBYZwL5DqvT6i6XOkib--vDe0WYxCuo=s64",
      "userId": "02102565803675104241"
     },
     "user_tz": -330
    },
    "id": "jlp02hK-x43Q",
    "outputId": "d4c40e6d-9d85-42b4-c612-cdeaa9597976"
   },
   "outputs": [],
   "source": [
    "plot_losses(history)"
   ]
  },
  {
   "cell_type": "code",
   "execution_count": null,
   "metadata": {
    "colab": {
     "base_uri": "https://localhost:8080/"
    },
    "executionInfo": {
     "elapsed": 116523,
     "status": "ok",
     "timestamp": 1618054762779,
     "user": {
      "displayName": "Charan C",
      "photoUrl": "https://lh3.googleusercontent.com/a-/AOh14Gg_-S25rbBYZwL5DqvT6i6XOkib--vDe0WYxCuo=s64",
      "userId": "02102565803675104241"
     },
     "user_tz": -330
    },
    "id": "CPIawal6x9sR",
    "outputId": "008003cc-6239-4270-8470-015bcf0de958"
   },
   "outputs": [],
   "source": [
    "history[-1]"
   ]
  },
  {
   "cell_type": "code",
   "execution_count": null,
   "metadata": {
    "colab": {
     "base_uri": "https://localhost:8080/"
    },
    "executionInfo": {
     "elapsed": 116518,
     "status": "ok",
     "timestamp": 1618054762781,
     "user": {
      "displayName": "Charan C",
      "photoUrl": "https://lh3.googleusercontent.com/a-/AOh14Gg_-S25rbBYZwL5DqvT6i6XOkib--vDe0WYxCuo=s64",
      "userId": "02102565803675104241"
     },
     "user_tz": -330
    },
    "id": "uPFph9rMyG-E",
    "outputId": "ae226fbd-835b-4bad-8b2c-bc4b8253b10d"
   },
   "outputs": [],
   "source": [
    "jovian.reset()\n",
    "jovian.log_dataset(image_size=64)\n",
    "jovian.log_hyperparams(batch_size=128, \n",
    "                       arch='ResNet9', \n",
    "                       epochs=[5], \n",
    "                       lrs=[0.001],\n",
    "                       opt=['Adam'])\n",
    "jovian.log_metrics(train_loss=history[-1]['train_loss'],\n",
    "                   val_acc=history[-1]['val_acc'],\n",
    "                   val_loss=history[-1]['val_loss'])"
   ]
  },
  {
   "cell_type": "code",
   "execution_count": null,
   "metadata": {
    "colab": {
     "base_uri": "https://localhost:8080/",
     "height": 120
    },
    "executionInfo": {
     "elapsed": 120498,
     "status": "ok",
     "timestamp": 1618054766768,
     "user": {
      "displayName": "Charan C",
      "photoUrl": "https://lh3.googleusercontent.com/a-/AOh14Gg_-S25rbBYZwL5DqvT6i6XOkib--vDe0WYxCuo=s64",
      "userId": "02102565803675104241"
     },
     "user_tz": -330
    },
    "id": "R0MKDWxWyT72",
    "outputId": "6e28c5bf-227a-47b8-a174-5c1bb761014f"
   },
   "outputs": [],
   "source": [
    "jovian.commit(project=project)"
   ]
  },
  {
   "cell_type": "code",
   "execution_count": null,
   "metadata": {
    "executionInfo": {
     "elapsed": 120492,
     "status": "ok",
     "timestamp": 1618054766769,
     "user": {
      "displayName": "Charan C",
      "photoUrl": "https://lh3.googleusercontent.com/a-/AOh14Gg_-S25rbBYZwL5DqvT6i6XOkib--vDe0WYxCuo=s64",
      "userId": "02102565803675104241"
     },
     "user_tz": -330
    },
    "id": "jR9jwkL7yTrK"
   },
   "outputs": [],
   "source": []
  },
  {
   "cell_type": "markdown",
   "metadata": {
    "id": "B9Jne6_tydid"
   },
   "source": [
    "### Test with individual images"
   ]
  },
  {
   "cell_type": "code",
   "execution_count": null,
   "metadata": {
    "executionInfo": {
     "elapsed": 120486,
     "status": "ok",
     "timestamp": 1618054766772,
     "user": {
      "displayName": "Charan C",
      "photoUrl": "https://lh3.googleusercontent.com/a-/AOh14Gg_-S25rbBYZwL5DqvT6i6XOkib--vDe0WYxCuo=s64",
      "userId": "02102565803675104241"
     },
     "user_tz": -330
    },
    "id": "5N8VatDkyi7w"
   },
   "outputs": [],
   "source": [
    "def predict_image(img, model, classes):\n",
    "    # Convert to a batch of 1\n",
    "    xb = to_device(img.unsqueeze(0), device)\n",
    "    # Get predictions from model\n",
    "    yb = model(xb)\n",
    "    # Pick index with highest probability\n",
    "    _, preds  = torch.max(yb, dim=1)\n",
    "    # Retrieve the class label\n",
    "    return classes[preds[0].item()]"
   ]
  },
  {
   "cell_type": "code",
   "execution_count": null,
   "metadata": {
    "executionInfo": {
     "elapsed": 912,
     "status": "ok",
     "timestamp": 1618054850966,
     "user": {
      "displayName": "Charan C",
      "photoUrl": "https://lh3.googleusercontent.com/a-/AOh14Gg_-S25rbBYZwL5DqvT6i6XOkib--vDe0WYxCuo=s64",
      "userId": "02102565803675104241"
     },
     "user_tz": -330
    },
    "id": "cvmrSfEJysvl"
   },
   "outputs": [],
   "source": [
    "def show_image_prediction(img, label, dataset):\n",
    "    plt.imshow(img.permute((1, 2, 0)))\n",
    "    pred = predict_image(img, model, dataset.classes)\n",
    "    print('Target:', dataset.classes[label])\n",
    "    print('Prediction:', pred)"
   ]
  },
  {
   "cell_type": "code",
   "execution_count": null,
   "metadata": {
    "colab": {
     "base_uri": "https://localhost:8080/",
     "height": 302
    },
    "executionInfo": {
     "elapsed": 1404,
     "status": "ok",
     "timestamp": 1618054866889,
     "user": {
      "displayName": "Charan C",
      "photoUrl": "https://lh3.googleusercontent.com/a-/AOh14Gg_-S25rbBYZwL5DqvT6i6XOkib--vDe0WYxCuo=s64",
      "userId": "02102565803675104241"
     },
     "user_tz": -330
    },
    "id": "a7bmtGbgyxIn",
    "outputId": "0f863735-6cc3-4d22-c82c-9a37be63d21e"
   },
   "outputs": [],
   "source": [
    "show_image_prediction(*valid_ds[100], valid_ds)"
   ]
  },
  {
   "cell_type": "code",
   "execution_count": null,
   "metadata": {
    "colab": {
     "base_uri": "https://localhost:8080/",
     "height": 302
    },
    "executionInfo": {
     "elapsed": 1163,
     "status": "ok",
     "timestamp": 1618054881532,
     "user": {
      "displayName": "Charan C",
      "photoUrl": "https://lh3.googleusercontent.com/a-/AOh14Gg_-S25rbBYZwL5DqvT6i6XOkib--vDe0WYxCuo=s64",
      "userId": "02102565803675104241"
     },
     "user_tz": -330
    },
    "id": "jWfnkW1RzUBO",
    "outputId": "af3c481e-82ea-4a21-8c93-c2c67963bb7c"
   },
   "outputs": [],
   "source": [
    "show_image_prediction(*test_ds[10], test_ds)"
   ]
  },
  {
   "cell_type": "code",
   "execution_count": null,
   "metadata": {
    "executionInfo": {
     "elapsed": 1149,
     "status": "ok",
     "timestamp": 1618054895685,
     "user": {
      "displayName": "Charan C",
      "photoUrl": "https://lh3.googleusercontent.com/a-/AOh14Gg_-S25rbBYZwL5DqvT6i6XOkib--vDe0WYxCuo=s64",
      "userId": "02102565803675104241"
     },
     "user_tz": -330
    },
    "id": "btxC-68FzfHp"
   },
   "outputs": [],
   "source": [
    "torch.save(model.state_dict(), 'mask-resnet9.pth')"
   ]
  },
  {
   "cell_type": "code",
   "execution_count": null,
   "metadata": {
    "colab": {
     "base_uri": "https://localhost:8080/",
     "height": 140
    },
    "executionInfo": {
     "elapsed": 6830,
     "status": "ok",
     "timestamp": 1618054929643,
     "user": {
      "displayName": "Charan C",
      "photoUrl": "https://lh3.googleusercontent.com/a-/AOh14Gg_-S25rbBYZwL5DqvT6i6XOkib--vDe0WYxCuo=s64",
      "userId": "02102565803675104241"
     },
     "user_tz": -330
    },
    "id": "KQFEaNWE0BeC",
    "outputId": "0e9c66f4-8cee-4ded-d024-ed640166b823"
   },
   "outputs": [],
   "source": [
    "jovian.commit(project=project, environment=None, outputs=['mask-resnet9.pth'])"
   ]
  },
  {
   "cell_type": "code",
   "execution_count": null,
   "metadata": {
    "executionInfo": {
     "elapsed": 1528,
     "status": "ok",
     "timestamp": 1618055032445,
     "user": {
      "displayName": "Charan C",
      "photoUrl": "https://lh3.googleusercontent.com/a-/AOh14Gg_-S25rbBYZwL5DqvT6i6XOkib--vDe0WYxCuo=s64",
      "userId": "02102565803675104241"
     },
     "user_tz": -330
    },
    "id": "3AuSloxL0Jq8"
   },
   "outputs": [],
   "source": [
    "detectot = torch.load('mask-resnet9.pth')"
   ]
  },
  {
   "cell_type": "code",
   "execution_count": null,
   "metadata": {
    "executionInfo": {
     "elapsed": 3029,
     "status": "ok",
     "timestamp": 1618055229131,
     "user": {
      "displayName": "Charan C",
      "photoUrl": "https://lh3.googleusercontent.com/a-/AOh14Gg_-S25rbBYZwL5DqvT6i6XOkib--vDe0WYxCuo=s64",
      "userId": "02102565803675104241"
     },
     "user_tz": -330
    },
    "id": "5zKw4m3-mZcr"
   },
   "outputs": [],
   "source": [
    "import tensorflow as tf\n",
    "import cv2\n",
    "import numpy\n",
    "\n",
    "#starting the video stream\n",
    "cap = cv2.VideoCapture(0) \n",
    "\n",
    "#using the XML file for haarcascade classifier\n",
    "classifier = cv2.CascadeClassifier('haarcascade_frontalface_default.xml')\n"
   ]
  },
  {
   "cell_type": "code",
   "execution_count": null,
   "metadata": {
    "colab": {
     "base_uri": "https://localhost:8080/",
     "height": 265
    },
    "executionInfo": {
     "elapsed": 1476,
     "status": "error",
     "timestamp": 1618055713180,
     "user": {
      "displayName": "Charan C",
      "photoUrl": "https://lh3.googleusercontent.com/a-/AOh14Gg_-S25rbBYZwL5DqvT6i6XOkib--vDe0WYxCuo=s64",
      "userId": "02102565803675104241"
     },
     "user_tz": -330
    },
    "id": "5RKiRuGIl8ML",
    "outputId": "61922d26-6586-40d4-9df3-72649251a189"
   },
   "outputs": [],
   "source": [
    "from google.colab.patches import cv2_imshow\n",
    "while True:\n",
    "  img, frame = cap.read()\n",
    "  face = classifier.detectMultiScale(img)\n",
    "  cv2_imshow(img)\n",
    "  "
   ]
  }
 ],
 "metadata": {
  "accelerator": "GPU",
  "colab": {
   "name": "deep-learning-face-mask.ipynb",
   "provenance": []
  },
  "language_info": {
   "codemirror_mode": {
    "name": "ipython",
    "version": 3
   },
   "file_extension": ".py",
   "mimetype": "text/x-python",
   "name": "python",
   "nbconvert_exporter": "python",
   "pygments_lexer": "ipython3",
   "version": "3.7.9"
  }
 },
 "nbformat": 4,
 "nbformat_minor": 1
}